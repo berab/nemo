{
 "cells": [
  {
   "cell_type": "code",
   "execution_count": 1,
   "id": "68e07809",
   "metadata": {},
   "outputs": [],
   "source": [
    "# SOURCE: https://colab.research.google.com/drive/1AmcITfN2ELQe07WKQ9szaxq-WSu4hdQb#scrollTo=kLGQdA1x66gA\n",
    "import argparse\n",
    "import torch\n",
    "import torch.nn as nn\n",
    "import torch.nn.functional as F\n",
    "import torch.optim as optim\n",
    "from torchvision import datasets, transforms\n",
    "import nemo\n",
    "from tqdm import tqdm"
   ]
  },
  {
   "cell_type": "code",
   "execution_count": 2,
   "id": "0e017716",
   "metadata": {},
   "outputs": [],
   "source": [
    "class ExampleNet(nn.Module):\n",
    "    def __init__(self):\n",
    "        super(ExampleNet, self).__init__()\n",
    "        self.conv1 = nn.Conv2d(1, 32, 3, 1)\n",
    "        self.bn1 = nn.BatchNorm2d(32)\n",
    "        self.relu1 = nn.ReLU() # <== Module, not Function!\n",
    "        self.conv2 = nn.Conv2d(32, 64, 3, 1)\n",
    "        self.bn2 = nn.BatchNorm2d(64)\n",
    "        self.relu2 = nn.ReLU() # <== Module, not Function!\n",
    "        self.pool2 = nn.MaxPool2d(2)\n",
    "        self.fc1 = nn.Linear(9216, 256)\n",
    "        self.fcrelu1 = nn.ReLU() # <== Module, not Function!\n",
    "        self.fc2 = nn.Linear(256, 10)\n",
    "\n",
    "    def forward(self, x):\n",
    "        x = self.conv1(x)\n",
    "        x = self.bn1(x)\n",
    "        x = self.relu1(x) # <== Module, not Function!\n",
    "        x = self.conv2(x)\n",
    "        x = self.bn2(x)\n",
    "        x = self.relu2(x) # <== Module, not Function!\n",
    "        x = self.pool2(x)\n",
    "        x = torch.flatten(x, 1)\n",
    "        x = self.fc1(x)\n",
    "        x = self.fcrelu1(x) # <== Module, not Function!\n",
    "        x = self.fc2(x)\n",
    "        output = F.log_softmax(x, dim=1) # <== the softmax operation does not need to be quantized, we can keep it as it is\n",
    "        return output"
   ]
  },
  {
   "cell_type": "code",
   "execution_count": 3,
   "id": "168b4276",
   "metadata": {},
   "outputs": [],
   "source": [
    "# convenience class to keep track of averages\n",
    "class Metric(object):\n",
    "    def __init__(self, name):\n",
    "        self.name = name\n",
    "        self.sum = torch.tensor(0.)\n",
    "        self.n = torch.tensor(0.)\n",
    "    def update(self, val):\n",
    "        self.sum += val.cpu()\n",
    "        self.n += 1\n",
    "    @property\n",
    "    def avg(self):\n",
    "        return self.sum / self.n\n",
    "\n",
    "def train(model, device, train_loader, optimizer, epoch, verbose=True):\n",
    "    model.train()\n",
    "    train_loss = Metric('train_loss')\n",
    "    with tqdm(total=len(train_loader),\n",
    "          desc='Train Epoch     #{}'.format(epoch + 1),\n",
    "          disable=not verbose) as t:\n",
    "        for batch_idx, (data, target) in enumerate(train_loader):\n",
    "            data, target = data.to(device), target.to(device)\n",
    "            optimizer.zero_grad()\n",
    "            output = model(data)\n",
    "            loss = F.nll_loss(output, target)\n",
    "            loss.backward()\n",
    "            optimizer.step()\n",
    "            train_loss.update(loss)\n",
    "            t.set_postfix({'loss': train_loss.avg.item()})\n",
    "            t.update(1)\n",
    "    return train_loss.avg.item()\n",
    "\n",
    "def test(model, device, test_loader, verbose=True):\n",
    "    model.eval()\n",
    "    test_loss = 0\n",
    "    correct = 0\n",
    "    test_acc = Metric('test_acc')\n",
    "    with tqdm(total=len(test_loader),\n",
    "          desc='Test',\n",
    "          disable=not verbose) as t:\n",
    "        with torch.no_grad():\n",
    "            for data, target in test_loader:\n",
    "                data, target = data.to(device), target.to(device)\n",
    "                output = model(data)\n",
    "                test_loss += F.nll_loss(output, target, reduction='sum').item() # sum up batch loss\n",
    "                pred = output.argmax(dim=1, keepdim=True) # get the index of the max log-probability\n",
    "                correct += pred.eq(target.view_as(pred)).sum().item()\n",
    "                test_acc.update((pred == target.view_as(pred)).float().mean())\n",
    "                t.set_postfix({'acc' : test_acc.avg.item() * 100. })\n",
    "                t.update(1)\n",
    "    test_loss /= len(test_loader.dataset)\n",
    "    return test_acc.avg.item() * 100."
   ]
  },
  {
   "cell_type": "code",
   "execution_count": 4,
   "id": "d1916ed9",
   "metadata": {},
   "outputs": [],
   "source": [
    "device = torch.device(\"cuda\" if torch.cuda.is_available() else \"cpu\")\n",
    "kwargs = {'num_workers': 1, 'pin_memory': True} if torch.cuda.is_available() else {}\n",
    "train_loader = torch.utils.data.DataLoader(\n",
    "    datasets.MNIST('../data', train=True, download=True, transform=transforms.Compose([\n",
    "        transforms.ToTensor()\n",
    "    ])),\n",
    "    batch_size=128, shuffle=True, **kwargs\n",
    ")\n",
    "test_loader = torch.utils.data.DataLoader(\n",
    "    datasets.MNIST('../data', train=False, transform=transforms.Compose([\n",
    "        transforms.ToTensor()\n",
    "    ])),\n",
    "    batch_size=128, shuffle=False, **kwargs\n",
    ")"
   ]
  },
  {
   "cell_type": "code",
   "execution_count": 5,
   "id": "8ce00efc",
   "metadata": {},
   "outputs": [
    {
     "name": "stdout",
     "output_type": "stream",
     "text": [
      "--2022-02-09 18:05:19--  https://raw.githubusercontent.com/FrancescoConti/nemo_examples_helper/master/mnist_cnn_fp.pt\n",
      "Resolving raw.githubusercontent.com (raw.githubusercontent.com)... 2606:50c0:8002::154, 2606:50c0:8000::154, 2606:50c0:8003::154, ...\n",
      "Connecting to raw.githubusercontent.com (raw.githubusercontent.com)|2606:50c0:8002::154|:443... connected.\n",
      "HTTP request sent, awaiting response... 200 OK\n",
      "Length: 9527849 (9,1M) [application/octet-stream]\n",
      "Saving to: ‘mnist_cnn_fp.pt’\n",
      "\n",
      "mnist_cnn_fp.pt     100%[===================>]   9,09M  1,99MB/s    in 5,3s    \n",
      "\n",
      "2022-02-09 18:05:24 (1,72 MB/s) - ‘mnist_cnn_fp.pt’ saved [9527849/9527849]\n",
      "\n",
      "40833b928b5179255cdde541ac97f58c  mnist_cnn_fp.pt\n"
     ]
    },
    {
     "name": "stderr",
     "output_type": "stream",
     "text": [
      "Test: 100%|███████████████████████████| 79/79 [00:09<00:00,  8.59it/s, acc=99.1]"
     ]
    },
    {
     "name": "stdout",
     "output_type": "stream",
     "text": [
      "\n",
      "FullPrecision accuracy: 99.12%\n"
     ]
    },
    {
     "name": "stderr",
     "output_type": "stream",
     "text": [
      "\n"
     ]
    }
   ],
   "source": [
    "!rm -rf mnist_cnn_fp.pt\n",
    "!wget https://raw.githubusercontent.com/FrancescoConti/nemo_examples_helper/master/mnist_cnn_fp.pt\n",
    "!md5sum mnist_cnn_fp.pt\n",
    "model = ExampleNet().to(device)\n",
    "state_dict = torch.load(\"mnist_cnn_fp.pt\", map_location='cpu')\n",
    "model.load_state_dict(state_dict, strict=True)\n",
    "acc = test(model, device, test_loader)\n",
    "print(\"\\nFullPrecision accuracy: %.02f%%\" % acc)"
   ]
  },
  {
   "cell_type": "code",
   "execution_count": 6,
   "id": "3941bfbf",
   "metadata": {},
   "outputs": [
    {
     "name": "stderr",
     "output_type": "stream",
     "text": [
      "Test: 100%|███████████████████████████| 79/79 [00:11<00:00,  6.61it/s, acc=82.2]"
     ]
    },
    {
     "name": "stdout",
     "output_type": "stream",
     "text": [
      "\n",
      "FakeQuantized @ 16b accuracy (first try): 82.21%\n"
     ]
    },
    {
     "name": "stderr",
     "output_type": "stream",
     "text": [
      "\n"
     ]
    }
   ],
   "source": [
    "model = nemo.transform.quantize_pact(model, dummy_input=torch.randn((1,1,28,28)).to(device))\n",
    "precision = {\n",
    "    'conv1': {\n",
    "        'W_bits' : 15\n",
    "    },\n",
    "    'conv2': {\n",
    "        'W_bits' : 15\n",
    "    },\n",
    "    'fc1': {\n",
    "        'W_bits' : 15\n",
    "    },\n",
    "    'fc2': {\n",
    "        'W_bits' : 15\n",
    "    },\n",
    "    'relu1': {\n",
    "        'x_bits' : 16\n",
    "    },\n",
    "    'relu2': {\n",
    "        'x_bits' : 16\n",
    "    },\n",
    "    'fcrelu1': {\n",
    "        'x_bits' : 16\n",
    "    },\n",
    "}\n",
    "model.change_precision(bits=1, min_prec_dict=precision)\n",
    "acc = test(model, device, test_loader)\n",
    "print(\"\\nFakeQuantized @ 16b accuracy (first try): %.02f%%\" % acc)"
   ]
  },
  {
   "cell_type": "code",
   "execution_count": 7,
   "id": "f8691bce",
   "metadata": {},
   "outputs": [
    {
     "name": "stderr",
     "output_type": "stream",
     "text": [
      "Test: 100%|███████████████████████████| 79/79 [00:25<00:00,  3.12it/s, acc=99.1]\n",
      "Test: 100%|███████████████████████████| 79/79 [00:18<00:00,  4.38it/s, acc=99.1]"
     ]
    },
    {
     "name": "stdout",
     "output_type": "stream",
     "text": [
      "\n",
      "FakeQuantized @ 16b accuracy (calibrated): 99.12%\n"
     ]
    },
    {
     "name": "stderr",
     "output_type": "stream",
     "text": [
      "\n"
     ]
    }
   ],
   "source": [
    "with model.statistics_act():\n",
    "    _ = test(model, device, test_loader)\n",
    "model.reset_alpha_act()\n",
    "acc = test(model, device, test_loader)\n",
    "print(\"\\nFakeQuantized @ 16b accuracy (calibrated): %.02f%%\" % acc)"
   ]
  },
  {
   "cell_type": "code",
   "execution_count": 8,
   "id": "de3d6a9f",
   "metadata": {},
   "outputs": [
    {
     "name": "stderr",
     "output_type": "stream",
     "text": [
      "Test: 100%|███████████████████████████| 79/79 [00:39<00:00,  1.98it/s, acc=99.1]"
     ]
    },
    {
     "name": "stdout",
     "output_type": "stream",
     "text": [
      "\n",
      "FakeQuantized @ mixed-precision accuracy: 99.10%\n"
     ]
    },
    {
     "name": "stderr",
     "output_type": "stream",
     "text": [
      "\n"
     ]
    }
   ],
   "source": [
    "precision = {\n",
    "    'conv1': {\n",
    "        'W_bits' : 7\n",
    "    },\n",
    "    'conv2': {\n",
    "        'W_bits' : 7\n",
    "    },\n",
    "    'fc1': {\n",
    "        'W_bits' : 7\n",
    "    },\n",
    "    'fc2': {\n",
    "        'W_bits' : 3\n",
    "    },\n",
    "    'relu1': {\n",
    "        'x_bits' : 8\n",
    "    },\n",
    "    'relu2': {\n",
    "        'x_bits' : 8\n",
    "    },\n",
    "    'fcrelu1': {\n",
    "        'x_bits' : 8\n",
    "    },\n",
    "}\n",
    "model.change_precision(bits=1, min_prec_dict=precision)\n",
    "acc = test(model, device, test_loader)\n",
    "print(\"\\nFakeQuantized @ mixed-precision accuracy: %.02f%%\" % acc)"
   ]
  },
  {
   "cell_type": "code",
   "execution_count": 9,
   "id": "89bed603",
   "metadata": {},
   "outputs": [
    {
     "name": "stdout",
     "output_type": "stream",
     "text": [
      "{\n",
      "  \"conv1\": {\n",
      "    \"W_bits\": 7\n",
      "  },\n",
      "  \"relu1\": {\n",
      "    \"x_bits\": 8\n",
      "  },\n",
      "  \"conv2\": {\n",
      "    \"W_bits\": 7\n",
      "  },\n",
      "  \"relu2\": {\n",
      "    \"x_bits\": 8\n",
      "  },\n",
      "  \"fc1\": {\n",
      "    \"W_bits\": 7\n",
      "  },\n",
      "  \"fcrelu1\": {\n",
      "    \"x_bits\": 8\n",
      "  },\n",
      "  \"fc2\": {\n",
      "    \"W_bits\": 7\n",
      "  }\n",
      "}\n"
     ]
    }
   ],
   "source": [
    "# save checkpoint using NEMO's dedicated function\n",
    "nemo.utils.save_checkpoint(model, None, 0, checkpoint_name='mnist_fq_mixed')\n",
    "# load it back (just for fun!) with PyTorch's one\n",
    "checkpoint = torch.load('checkpoint/mnist_fq_mixed.pth')\n",
    "# pretty-print the precision dictionary\n",
    "import json\n",
    "print(json.dumps(checkpoint['precision'], indent=2))"
   ]
  },
  {
   "cell_type": "code",
   "execution_count": 10,
   "id": "4f6b42f6",
   "metadata": {},
   "outputs": [
    {
     "name": "stderr",
     "output_type": "stream",
     "text": [
      "Test: 100%|███████████████████████████| 79/79 [00:11<00:00,  6.68it/s, acc=99.1]"
     ]
    },
    {
     "name": "stdout",
     "output_type": "stream",
     "text": [
      "\n",
      "FakeQuantized @ mixed-precision (folded) accuracy: 99.11%\n"
     ]
    },
    {
     "name": "stderr",
     "output_type": "stream",
     "text": [
      "\n"
     ]
    }
   ],
   "source": [
    "model.fold_bn()\n",
    "model.reset_alpha_weights()\n",
    "acc = test(model, device, test_loader)\n",
    "print(\"\\nFakeQuantized @ mixed-precision (folded) accuracy: %.02f%%\" % acc)"
   ]
  },
  {
   "cell_type": "code",
   "execution_count": 11,
   "id": "b6cc9b29",
   "metadata": {},
   "outputs": [
    {
     "name": "stdout",
     "output_type": "stream",
     "text": [
      "ExampleNet(\n",
      "  (conv1): PACT_Conv2d(1, 32, kernel_size=(3, 3), stride=(1, 1))\n",
      "  (bn1): PACT_Identity()\n",
      "  (relu1): PACT_Act()\n",
      "  (conv2): PACT_Conv2d(32, 64, kernel_size=(3, 3), stride=(1, 1))\n",
      "  (bn2): PACT_Identity()\n",
      "  (relu2): PACT_Act()\n",
      "  (pool2): MaxPool2d(kernel_size=2, stride=2, padding=0, dilation=1, ceil_mode=False)\n",
      "  (fc1): PACT_Linear(in_features=9216, out_features=256, bias=True)\n",
      "  (fcrelu1): PACT_Act()\n",
      "  (fc2): PACT_Linear(in_features=256, out_features=10, bias=True)\n",
      ")\n"
     ]
    },
    {
     "name": "stderr",
     "output_type": "stream",
     "text": [
      "Test: 100%|███████████████████████████| 79/79 [00:22<00:00,  3.54it/s, acc=99.1]"
     ]
    },
    {
     "name": "stdout",
     "output_type": "stream",
     "text": [
      "\n",
      "QuantizedDeployable @ mixed-precision accuracy: 99.10%\n"
     ]
    },
    {
     "name": "stderr",
     "output_type": "stream",
     "text": [
      "\n"
     ]
    }
   ],
   "source": [
    "model = nemo.transform.bn_to_identity(model) # necessary because folding does not physically remove BN layers\n",
    "model.qd_stage(eps_in=1./255)\n",
    "print(model)\n",
    "acc = test(model, device, test_loader)\n",
    "print(\"\\nQuantizedDeployable @ mixed-precision accuracy: %.02f%%\" % acc)"
   ]
  },
  {
   "cell_type": "code",
   "execution_count": null,
   "id": "a5aba76d",
   "metadata": {},
   "outputs": [
    {
     "name": "stdout",
     "output_type": "stream",
     "text": [
      "ExampleNet(\n",
      "  (conv1): PACT_Conv2d(1, 32, kernel_size=(3, 3), stride=(1, 1))\n",
      "  (bn1): PACT_Identity()\n",
      "  (relu1): PACT_IntegerAct()\n",
      "  (conv2): PACT_Conv2d(32, 64, kernel_size=(3, 3), stride=(1, 1))\n",
      "  (bn2): PACT_Identity()\n",
      "  (relu2): PACT_IntegerAct()\n",
      "  (pool2): MaxPool2d(kernel_size=2, stride=2, padding=0, dilation=1, ceil_mode=False)\n",
      "  (fc1): PACT_Linear(in_features=9216, out_features=256, bias=True)\n",
      "  (fcrelu1): PACT_IntegerAct()\n",
      "  (fc2): PACT_Linear(in_features=256, out_features=10, bias=True)\n",
      ")\n"
     ]
    },
    {
     "name": "stderr",
     "output_type": "stream",
     "text": [
      "Test:  33%|████████▉                  | 26/79 [00:04<00:08,  6.18it/s, acc=11.4]"
     ]
    }
   ],
   "source": [
    "model.id_stage()\n",
    "print(model)\n",
    "acc = test(model, device, test_loader)\n",
    "print(\"\\nIntegerDeployable @ mixed-precision accuracy: %.02f%%\" % acc)"
   ]
  },
  {
   "cell_type": "code",
   "execution_count": null,
   "id": "6a53da70",
   "metadata": {},
   "outputs": [],
   "source": [
    "def test_with_integer(model, device, test_loader, verbose=True, integer=False):\n",
    "    model.eval()\n",
    "    test_loss = 0\n",
    "    correct = 0\n",
    "    test_acc = Metric('test_acc')\n",
    "    with tqdm(total=len(test_loader),\n",
    "          desc='Test',\n",
    "          disable=not verbose) as t:\n",
    "        with torch.no_grad():\n",
    "            for data, target in test_loader:\n",
    "                if integer:      # <== this is different from the previous version\n",
    "                    data *= 255  # <== of test function!\n",
    "                data, target = data.to(device), target.to(device)\n",
    "                output = model(data)\n",
    "                test_loss += F.nll_loss(output, target, reduction='sum').item() # sum up batch loss\n",
    "                pred = output.argmax(dim=1, keepdim=True) # get the index of the max log-probability\n",
    "                correct += pred.eq(target.view_as(pred)).sum().item()\n",
    "                test_acc.update((pred == target.view_as(pred)).float().mean())\n",
    "                t.set_postfix({'acc' : test_acc.avg.item() * 100. })\n",
    "                t.update(1)\n",
    "    test_loss /= len(test_loader.dataset)\n",
    "    return test_acc.avg.item() * 100."
   ]
  },
  {
   "cell_type": "code",
   "execution_count": null,
   "id": "be848d82",
   "metadata": {},
   "outputs": [],
   "source": [
    "acc = test_with_integer(model, device, test_loader, integer=True)\n",
    "print(\"\\nIntegerDeployable @ mixed-precision accuracy (for real): %.02f%%\" % acc)"
   ]
  },
  {
   "cell_type": "code",
   "execution_count": null,
   "id": "2b049286",
   "metadata": {},
   "outputs": [],
   "source": [
    "nemo.utils.export_onnx('mnist_id_mixed.onnx', model, model, (1,28,28))"
   ]
  },
  {
   "cell_type": "code",
   "execution_count": null,
   "id": "41180a02",
   "metadata": {},
   "outputs": [],
   "source": []
  }
 ],
 "metadata": {
  "kernelspec": {
   "display_name": "Python 3 (ipykernel)",
   "language": "python",
   "name": "python3"
  },
  "language_info": {
   "codemirror_mode": {
    "name": "ipython",
    "version": 3
   },
   "file_extension": ".py",
   "mimetype": "text/x-python",
   "name": "python",
   "nbconvert_exporter": "python",
   "pygments_lexer": "ipython3",
   "version": "3.8.12"
  }
 },
 "nbformat": 4,
 "nbformat_minor": 5
}
